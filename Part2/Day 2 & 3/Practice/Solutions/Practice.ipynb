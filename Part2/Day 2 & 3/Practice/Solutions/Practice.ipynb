{
 "metadata": {
  "language_info": {
   "codemirror_mode": {
    "name": "ipython",
    "version": 3
   },
   "file_extension": ".py",
   "mimetype": "text/x-python",
   "name": "python",
   "nbconvert_exporter": "python",
   "pygments_lexer": "ipython3",
   "version": "3.8.5-final"
  },
  "orig_nbformat": 2,
  "kernelspec": {
   "name": "python3",
   "display_name": "Python 3.8.5 64-bit (conda)",
   "metadata": {
    "interpreter": {
     "hash": "514c875f458a4eeecf57fff9a8f241a0d348fbc5534b67b68517d23698dc73f9"
    }
   }
  }
 },
 "nbformat": 4,
 "nbformat_minor": 2,
 "cells": [
  {
   "source": [
    "Day 2 And 3 Practice"
   ],
   "cell_type": "markdown",
   "metadata": {}
  },
  {
   "source": [
    "Lists"
   ],
   "cell_type": "markdown",
   "metadata": {}
  },
  {
   "cell_type": "code",
   "execution_count": null,
   "metadata": {},
   "outputs": [],
   "source": [
    "numbers = []\n",
    "queries = int(input())\n",
    "while queries > 0:\n",
    "    control,*ele =[x for x in input().split()]\n",
    "    if control == 'insert':\n",
    "        numbers.insert(int(ele[0]),int(ele[1]))\n",
    "    if control == \"print\":\n",
    "        print(numbers)\n",
    "    if control == \"remove\":\n",
    "        numbers.remove(int(ele[0]))\n",
    "    if control == \"append\":\n",
    "        numbers.append(int(ele[0]))\n",
    "    if control == \"sort\":\n",
    "        numbers.sort()\n",
    "    if control == \"pop\":\n",
    "        numbers.pop()\n",
    "    if control == \"reverse\":\n",
    "        numbers.reverse()\n",
    "    queries -= 1\n"
   ]
  },
  {
   "source": [
    "Nested Lists"
   ],
   "cell_type": "markdown",
   "metadata": {}
  },
  {
   "cell_type": "code",
   "execution_count": 8,
   "metadata": {},
   "outputs": [
    {
     "output_type": "stream",
     "name": "stdout",
     "text": [
      "{}\n"
     ]
    }
   ],
   "source": [
    "size = int(input())\n",
    "order = {}\n",
    "minimum = 1e10\n",
    "SecondMin = 1e10\n",
    "# print(order)\n",
    "while size > 0:\n",
    "    name = input()\n",
    "    marks = float(input())\n",
    "    if minimum > marks:\n",
    "        SecondMin = minimum\n",
    "        minimum = marks\n",
    "    elif marks < SecondMin and marks != minimum:\n",
    "        SecondMin = marks\n",
    "    if marks not in order:\n",
    "        order[marks] = []\n",
    "        order[marks].append(name)\n",
    "    else:\n",
    "        order[marks].append(name)\n",
    "    size -= 1\n",
    "\n",
    "order[SecondMin].sort()\n",
    "# print(SecondMin)\n",
    "for i in order[SecondMin]:\n",
    "    print(i)\n"
   ]
  },
  {
   "source": [
    "Mystery of Repeated numbers "
   ],
   "cell_type": "markdown",
   "metadata": {}
  },
  {
   "cell_type": "code",
   "execution_count": null,
   "metadata": {},
   "outputs": [],
   "source": [
    "size = int(input())\n",
    "numbers = [(int(x)) for x in input().split()]\n",
    "a = {}\n",
    "for i in numbers:\n",
    "    if i not in a:\n",
    "        a[i] = 1\n",
    "    else:\n",
    "        print(i)\n",
    "        break"
   ]
  },
  {
   "source": [],
   "cell_type": "markdown",
   "metadata": {}
  },
  {
   "source": [
    "Tupple"
   ],
   "cell_type": "markdown",
   "metadata": {}
  },
  {
   "cell_type": "code",
   "execution_count": 3,
   "metadata": {},
   "outputs": [
    {
     "output_type": "stream",
     "name": "stdout",
     "text": [
      "-3550055125485641917\n"
     ]
    }
   ],
   "source": [
    "size = int(input())\n",
    "l = tuple([int(x)  for x in input().split()])\n",
    "# print(l)\n",
    "print(hash(l))"
   ]
  },
  {
   "source": [
    "Find the Runner-Up Score!"
   ],
   "cell_type": "markdown",
   "metadata": {}
  },
  {
   "cell_type": "code",
   "execution_count": 6,
   "metadata": {},
   "outputs": [
    {
     "output_type": "stream",
     "name": "stdout",
     "text": [
      "4\n"
     ]
    }
   ],
   "source": [
    "size = int(input())\n",
    "num = [int(x) for x in input().split()]\n",
    "maximum = -101\n",
    "secondmax = -101 \n",
    "for i in num:\n",
    "    if maximum < i:\n",
    "        secondmax = maximum\n",
    "        maximum = i\n",
    "    elif i > secondmax and maximum != i:\n",
    "        secondmax = i\n",
    "\n",
    "print(secondmax)"
   ]
  },
  {
   "cell_type": "code",
   "execution_count": 11,
   "metadata": {},
   "outputs": [
    {
     "output_type": "error",
     "ename": "ValueError",
     "evalue": "complex() arg is a malformed string",
     "traceback": [
      "\u001b[1;31m---------------------------------------------------------------------------\u001b[0m",
      "\u001b[1;31mValueError\u001b[0m                                Traceback (most recent call last)",
      "\u001b[1;32m<ipython-input-11-7ac03b5c659c>\u001b[0m in \u001b[0;36m<module>\u001b[1;34m\u001b[0m\n\u001b[0;32m      1\u001b[0m \u001b[1;32mimport\u001b[0m \u001b[0mcmath\u001b[0m\u001b[1;33m\u001b[0m\u001b[1;33m\u001b[0m\u001b[0m\n\u001b[1;32m----> 2\u001b[1;33m \u001b[0mprint\u001b[0m\u001b[1;33m(\u001b[0m\u001b[1;33m*\u001b[0m\u001b[0mcmath\u001b[0m\u001b[1;33m.\u001b[0m\u001b[0mpolar\u001b[0m\u001b[1;33m(\u001b[0m\u001b[0mcomplex\u001b[0m\u001b[1;33m(\u001b[0m\u001b[0minput\u001b[0m\u001b[1;33m(\u001b[0m\u001b[1;33m)\u001b[0m\u001b[1;33m)\u001b[0m\u001b[1;33m)\u001b[0m\u001b[1;33m,\u001b[0m \u001b[0msep\u001b[0m\u001b[1;33m=\u001b[0m\u001b[1;34m'\\n'\u001b[0m\u001b[1;33m)\u001b[0m\u001b[1;33m\u001b[0m\u001b[1;33m\u001b[0m\u001b[0m\n\u001b[0m",
      "\u001b[1;31mValueError\u001b[0m: complex() arg is a malformed string"
     ]
    }
   ],
   "source": [
    "import cmath\n",
    "print(*cmath.polar(complex(input())), sep='\\n')"
   ]
  },
  {
   "cell_type": "code",
   "execution_count": null,
   "metadata": {},
   "outputs": [],
   "source": [
    "List Comprehension"
   ]
  },
  {
   "cell_type": "code",
   "execution_count": 29,
   "metadata": {},
   "outputs": [
    {
     "output_type": "error",
     "ename": "ValueError",
     "evalue": "invalid literal for int() with base 10: ''",
     "traceback": [
      "\u001b[1;31m---------------------------------------------------------------------------\u001b[0m",
      "\u001b[1;31mValueError\u001b[0m                                Traceback (most recent call last)",
      "\u001b[1;32m<ipython-input-29-08db2bb12b96>\u001b[0m in \u001b[0;36m<module>\u001b[1;34m\u001b[0m\n\u001b[0;32m      1\u001b[0m \u001b[1;32mif\u001b[0m \u001b[0m__name__\u001b[0m \u001b[1;33m==\u001b[0m \u001b[1;34m'__main__'\u001b[0m\u001b[1;33m:\u001b[0m\u001b[1;33m\u001b[0m\u001b[1;33m\u001b[0m\u001b[0m\n\u001b[1;32m----> 2\u001b[1;33m     \u001b[0mx\u001b[0m \u001b[1;33m=\u001b[0m \u001b[0mint\u001b[0m\u001b[1;33m(\u001b[0m\u001b[0minput\u001b[0m\u001b[1;33m(\u001b[0m\u001b[1;33m)\u001b[0m\u001b[1;33m)\u001b[0m\u001b[1;33m\u001b[0m\u001b[1;33m\u001b[0m\u001b[0m\n\u001b[0m\u001b[0;32m      3\u001b[0m     \u001b[0my\u001b[0m \u001b[1;33m=\u001b[0m \u001b[0mint\u001b[0m\u001b[1;33m(\u001b[0m\u001b[0minput\u001b[0m\u001b[1;33m(\u001b[0m\u001b[1;33m)\u001b[0m\u001b[1;33m)\u001b[0m\u001b[1;33m\u001b[0m\u001b[1;33m\u001b[0m\u001b[0m\n\u001b[0;32m      4\u001b[0m     \u001b[0mz\u001b[0m \u001b[1;33m=\u001b[0m \u001b[0mint\u001b[0m\u001b[1;33m(\u001b[0m\u001b[0minput\u001b[0m\u001b[1;33m(\u001b[0m\u001b[1;33m)\u001b[0m\u001b[1;33m)\u001b[0m\u001b[1;33m\u001b[0m\u001b[1;33m\u001b[0m\u001b[0m\n\u001b[0;32m      5\u001b[0m     \u001b[0mn\u001b[0m \u001b[1;33m=\u001b[0m \u001b[0mint\u001b[0m\u001b[1;33m(\u001b[0m\u001b[0minput\u001b[0m\u001b[1;33m(\u001b[0m\u001b[1;33m)\u001b[0m\u001b[1;33m)\u001b[0m\u001b[1;33m\u001b[0m\u001b[1;33m\u001b[0m\u001b[0m\n",
      "\u001b[1;31mValueError\u001b[0m: invalid literal for int() with base 10: ''"
     ]
    }
   ],
   "source": [
    "if __name__ == '__main__':\n",
    "    x = int(input())\n",
    "    y = int(input())\n",
    "    z = int(input())\n",
    "    n = int(input())\n",
    "print( [[i,j,k] for i in range( x + 1) for j in range( y + 1) for k in range(z+1) if ( ( i + j + k ) != n )  ])"
   ]
  },
  {
   "source": [
    "Iterative tools.permutation"
   ],
   "cell_type": "markdown",
   "metadata": {}
  },
  {
   "cell_type": "code",
   "execution_count": 30,
   "metadata": {},
   "outputs": [
    {
     "output_type": "error",
     "ename": "ValueError",
     "evalue": "not enough values to unpack (expected 2, got 0)",
     "traceback": [
      "\u001b[1;31m---------------------------------------------------------------------------\u001b[0m",
      "\u001b[1;31mValueError\u001b[0m                                Traceback (most recent call last)",
      "\u001b[1;32m<ipython-input-30-d4b13755bdf4>\u001b[0m in \u001b[0;36m<module>\u001b[1;34m\u001b[0m\n\u001b[0;32m      1\u001b[0m \u001b[1;32mfrom\u001b[0m \u001b[0mitertools\u001b[0m \u001b[1;32mimport\u001b[0m \u001b[0mpermutations\u001b[0m\u001b[1;33m\u001b[0m\u001b[1;33m\u001b[0m\u001b[0m\n\u001b[1;32m----> 2\u001b[1;33m \u001b[0ml\u001b[0m\u001b[1;33m,\u001b[0m\u001b[0mb\u001b[0m\u001b[1;33m=\u001b[0m\u001b[0minput\u001b[0m\u001b[1;33m(\u001b[0m\u001b[1;33m)\u001b[0m\u001b[1;33m.\u001b[0m\u001b[0msplit\u001b[0m\u001b[1;33m(\u001b[0m\u001b[1;33m)\u001b[0m\u001b[1;33m\u001b[0m\u001b[1;33m\u001b[0m\u001b[0m\n\u001b[0m\u001b[0;32m      3\u001b[0m \u001b[0ml1\u001b[0m\u001b[1;33m=\u001b[0m\u001b[0mlist\u001b[0m\u001b[1;33m(\u001b[0m\u001b[0mpermutations\u001b[0m\u001b[1;33m(\u001b[0m\u001b[0ml\u001b[0m\u001b[1;33m,\u001b[0m\u001b[0mint\u001b[0m\u001b[1;33m(\u001b[0m\u001b[0mb\u001b[0m\u001b[1;33m)\u001b[0m\u001b[1;33m)\u001b[0m\u001b[1;33m)\u001b[0m\u001b[1;33m\u001b[0m\u001b[1;33m\u001b[0m\u001b[0m\n\u001b[0;32m      4\u001b[0m \u001b[1;32mfor\u001b[0m \u001b[0mi\u001b[0m \u001b[1;32min\u001b[0m \u001b[0msorted\u001b[0m\u001b[1;33m(\u001b[0m\u001b[0ml1\u001b[0m\u001b[1;33m)\u001b[0m\u001b[1;33m:\u001b[0m\u001b[1;33m\u001b[0m\u001b[1;33m\u001b[0m\u001b[0m\n\u001b[0;32m      5\u001b[0m       \u001b[0mprint\u001b[0m\u001b[1;33m(\u001b[0m\u001b[1;33m*\u001b[0m\u001b[0mi\u001b[0m\u001b[1;33m,\u001b[0m\u001b[0msep\u001b[0m\u001b[1;33m=\u001b[0m\u001b[1;34m''\u001b[0m\u001b[1;33m)\u001b[0m\u001b[1;33m\u001b[0m\u001b[1;33m\u001b[0m\u001b[0m\n",
      "\u001b[1;31mValueError\u001b[0m: not enough values to unpack (expected 2, got 0)"
     ]
    }
   ],
   "source": [
    "from itertools import permutations\n",
    "l,b=input().split()\n",
    "l1=list(permutations(l,int(b)))\n",
    "for i in sorted(l1):\n",
    "      print(*i,sep='')"
   ]
  },
  {
   "source": [
    "itertools.combinations()"
   ],
   "cell_type": "markdown",
   "metadata": {}
  },
  {
   "cell_type": "code",
   "execution_count": null,
   "metadata": {},
   "outputs": [],
   "source": [
    "from itertools import combinations\n",
    "string, n = input().split()\n",
    "for i in range(1,int(n)+1):\n",
    "    data = [\"\".join(sorted(i)) for i in combinations(string,i)]\n",
    "    data.sort()\n",
    "    print(\"\\n\".join(data))"
   ]
  },
  {
   "source": [
    "itertools.combinations_with_replacement()"
   ],
   "cell_type": "markdown",
   "metadata": {}
  },
  {
   "cell_type": "code",
   "execution_count": null,
   "metadata": {},
   "outputs": [],
   "source": [
    "from itertools import combinations_with_replacement\n",
    "s,k = input().split(' ')\n",
    "k = int(k)\n",
    "s = [x for x in s]\n",
    "s.sort()\n",
    "l = list(combinations_with_replacement(s,k))\n",
    "l.sort()\n",
    "for i in l:\n",
    "    s = ''\n",
    "    for k in i:\n",
    "        s+=k\n",
    "    print(s)"
   ]
  },
  {
   "source": [
    "Polar Coordinates"
   ],
   "cell_type": "markdown",
   "metadata": {}
  },
  {
   "cell_type": "code",
   "execution_count": null,
   "metadata": {},
   "outputs": [],
   "source": [
    "import cmath\n",
    "print(*cmath.polar(complex(input())), sep='\\n')\n",
    "#  or\n",
    "import cmath\n",
    "\n",
    "n = input()\n",
    "print(abs(complex(n)))\n",
    "print(cmath.phase(complex(n)))\n",
    "\n"
   ]
  },
  {
   "source": [
    "Find Angle\n"
   ],
   "cell_type": "markdown",
   "metadata": {}
  },
  {
   "cell_type": "code",
   "execution_count": null,
   "metadata": {},
   "outputs": [],
   "source": [
    "import math\n",
    "AB,BC=int(input()),int(input())\n",
    "hype=math.hypot(AB,BC)                   \n",
    "res=round(math.degrees(math.acos(BC/hype))) \n",
    "degree=chr(176)                                \n",
    "print(res,degree, sep='')\n"
   ]
  },
  {
   "source": [
    "Triangle Ques 2"
   ],
   "cell_type": "markdown",
   "metadata": {}
  },
  {
   "cell_type": "code",
   "execution_count": null,
   "metadata": {},
   "outputs": [],
   "source": [
    "for i in range(1,int(input())+1): #More than 2 lines will result in 0 score. Do not leave a blank line also\n",
    "    print (((10**i - 1)//9)**2)\n"
   ]
  },
  {
   "source": [
    "Time Delta"
   ],
   "cell_type": "markdown",
   "metadata": {}
  },
  {
   "cell_type": "code",
   "execution_count": null,
   "metadata": {},
   "outputs": [],
   "source": [
    "from datetime import datetime\n",
    "\n",
    "if __name__ == '__main__':\n",
    "    t = int(input())\n",
    "    for _ in range(t):\n",
    "        s1 = input()\n",
    "        s2 = input()\n",
    "        t1 = datetime.strptime(s1, \"%a %d %b %Y %H:%M:%S %z\")\n",
    "        t2 = datetime.strptime(s2, \"%a %d %b %Y %H:%M:%S %z\")\n",
    "        print(abs(int((t1-t2).total_seconds())))"
   ]
  },
  {
   "source": [
    "Reduce Function"
   ],
   "cell_type": "markdown",
   "metadata": {}
  },
  {
   "cell_type": "code",
   "execution_count": null,
   "metadata": {},
   "outputs": [],
   "source": [
    "from fractions import Fraction\n",
    "from functools import reduce\n",
    "import operator\n",
    "def product(fracs):\n",
    "    t =  reduce(operator.mul , fracs) \n",
    "    return t.numerator, t.denominator\n",
    "if __name__ == '__main__':\n",
    "    fracs = []\n",
    "    for _ in range(int(input())):\n",
    "        fracs.append(Fraction(*map(int, input().split())))\n",
    "    result = product(fracs)\n",
    "    print(*result)\n"
   ]
  },
  {
   "source": [
    "Whats YOur Name ?"
   ],
   "cell_type": "markdown",
   "metadata": {}
  },
  {
   "cell_type": "code",
   "execution_count": null,
   "metadata": {},
   "outputs": [],
   "source": [
    "def print_full_name(a, b):\n",
    "    print(\"Hello {} {}! You just delved into python.\".format(a,b))\n",
    "\n",
    "if __name__ == '__main__':\n",
    "    first_name = input()\n",
    "    last_name = input()\n",
    "    print_full_name(first_name, last_name)\n"
   ]
  },
  {
   "source": [
    "Swap Case"
   ],
   "cell_type": "markdown",
   "metadata": {}
  },
  {
   "cell_type": "code",
   "execution_count": null,
   "metadata": {},
   "outputs": [],
   "source": [
    "def swap_case(s):\n",
    "    return s.swapcase()\n",
    "    \n",
    "if __name__ == '__main__':\n",
    "    s = input()\n",
    "    result = swap_case(s)\n",
    "    print(result)\n"
   ]
  },
  {
   "source": [
    "Capitalize"
   ],
   "cell_type": "markdown",
   "metadata": {}
  },
  {
   "cell_type": "code",
   "execution_count": null,
   "metadata": {},
   "outputs": [],
   "source": [
    "import math\n",
    "import os\n",
    "import random\n",
    "import re\n",
    "import sys\n",
    "\n",
    "def solve(s):\n",
    "    for x in s[:].split():\n",
    "        s = s.replace(x, x.capitalize())\n",
    "    return s\n",
    "\n",
    "if __name__ == '__main__':\n",
    "    s = input()\n",
    "\n",
    "    result = solve(s)\n",
    "\n",
    "    fptr.write(result + '\\n')\n",
    "\n",
    "    fptr.close()\n",
    "\n"
   ]
  },
  {
   "source": [
    "String Formatting"
   ],
   "cell_type": "markdown",
   "metadata": {}
  },
  {
   "cell_type": "code",
   "execution_count": null,
   "metadata": {},
   "outputs": [],
   "source": [
    "def print_formatted(number):\n",
    "\n",
    "    width = len(\"{0:b}\".format(number))\n",
    "\n",
    "    for i in range(1, number + 1):\n",
    "        print(\"{0:{w}d} {0:{w}o} {0:{w}X} {0:{w}b}\".format(i, w = width))\n",
    "        \n",
    "if __name__ == '__main__':\n",
    "    n = int(input())\n",
    "    print_formatted(n)"
   ]
  },
  {
   "source": [
    "Rotating The Matrix"
   ],
   "cell_type": "markdown",
   "metadata": {}
  },
  {
   "cell_type": "code",
   "execution_count": null,
   "metadata": {},
   "outputs": [],
   "source": [
    "def GetAnswer(A):\n",
    "    N = len(A[0])\n",
    "    for i in range(N // 2):\n",
    "        for j in range(i, N - i - 1):\n",
    "            temp = A[i][j]\n",
    "            A[i][j] = A[N - 1 - j][i]\n",
    "            A[N - 1 - j][i] = A[N - 1 - i][N - 1 - j]\n",
    "            A[N - 1 - i][N - 1 - j] = A[j][N - 1 - i]\n",
    "            A[j][N - 1 - i] = temp\n",
    "\n",
    "def printMatrix(A):\n",
    "    N = len(A[0])\n",
    "    for i in range(N):\n",
    "        print(*A[i])\n",
    "        \n",
    "n=int(input())\n",
    "A = []\n",
    "for i in range(n):\n",
    "    A.append(list(map(int,input().split())))\n",
    "GetAnswer(A)\n",
    "printMatrix(A)"
   ]
  },
  {
   "source": [
    "Riax Game"
   ],
   "cell_type": "markdown",
   "metadata": {}
  },
  {
   "cell_type": "code",
   "execution_count": null,
   "metadata": {},
   "outputs": [],
   "source": [
    "n=int(input()) \n",
    "l=[] \n",
    "s=0\n",
    "l=list(map(int,input().split()))\n",
    "for i in l:\n",
    "    if(i==1):\n",
    "        s=s+1\n",
    "    elif(i==2):\n",
    "        s=s+2\n",
    "    elif(i%2==0 and i%4==0 and i%3!=0):\n",
    "        s=s+2\n",
    "    elif(i%3==0 or i%5==0):\n",
    "        s=s+3\n",
    "    else:\n",
    "        s=s+4\n",
    "print(s)\n",
    "\n",
    "\n"
   ]
  },
  {
   "source": [
    "Find a String"
   ],
   "cell_type": "markdown",
   "metadata": {}
  },
  {
   "cell_type": "code",
   "execution_count": null,
   "metadata": {},
   "outputs": [],
   "source": [
    "def count_substring(string, sub_string):\n",
    "    count = start = 0\n",
    "    while True:\n",
    "        start = string.find(sub_string, start) + 1\n",
    "        if start > 0:\n",
    "            count +=1\n",
    "        else:\n",
    "            return count\n",
    "\n",
    "if __name__ == '__main__':\n",
    "    string = input().strip()\n",
    "    sub_string = input().strip()\n",
    "    \n",
    "    count = count_substring(string, sub_string)\n",
    "    print(count)\n"
   ]
  },
  {
   "source": [
    "String Split and Join"
   ],
   "cell_type": "markdown",
   "metadata": {}
  },
  {
   "cell_type": "code",
   "execution_count": null,
   "metadata": {},
   "outputs": [],
   "source": [
    "def split_and_join(line):\n",
    "    Output = line.split()\n",
    "    Output = \"-\".join(Output)\n",
    "    return Output\n",
    "\n",
    "\n",
    "if __name__ == '__main__':\n",
    "    line = input()\n",
    "    result = split_and_join(line)\n",
    "    print(result)"
   ]
  },
  {
   "source": [
    "Mutatation\n"
   ],
   "cell_type": "markdown",
   "metadata": {}
  },
  {
   "cell_type": "code",
   "execution_count": null,
   "metadata": {},
   "outputs": [],
   "source": [
    "def mutate_string(string, position, character):\n",
    "     return string[:position] + character + string[position + 1:]\n",
    "     \n",
    "if __name__ == '__main__':\n",
    "    s = input()\n",
    "    i, c = input().split()\n",
    "    s_new = mutate_string(s, int(i), c)\n",
    "    print(s_new)\n",
    "\n"
   ]
  },
  {
   "source": [
    "String Validators"
   ],
   "cell_type": "markdown",
   "metadata": {}
  },
  {
   "cell_type": "code",
   "execution_count": null,
   "metadata": {},
   "outputs": [],
   "source": [
    "if __name__ == '__main__':\n",
    "    s = input()\n",
    "    print(any(a.isalnum() for a in s) )\n",
    "    print(any(a.isalpha() for a in s) )\n",
    "    print(any(a.isdigit() for a in s) )\n",
    "    print(any(a.islower() for a in s) )\n",
    "    print(any(a.isupper() for a in s) )\n"
   ]
  },
  {
   "source": [
    "Text Alignment"
   ],
   "cell_type": "markdown",
   "metadata": {}
  },
  {
   "cell_type": "code",
   "execution_count": null,
   "metadata": {},
   "outputs": [],
   "source": [
    "thickness = int(input()) #This must be an odd number\n",
    "c = 'H'\n",
    "\n",
    "#Top Cone\n",
    "for i in range(thickness):\n",
    "    print((c*i).rjust(thickness-1)+c+(c*i).ljust(thickness-1))\n",
    "\n",
    "#Top Pillars\n",
    "for i in range(thickness+1):\n",
    "    print((c*thickness).center(thickness*2)+(c*thickness).center(thickness*6))\n",
    "\n",
    "#Middle Belt\n",
    "for i in range((thickness+1)//2):\n",
    "    print((c*thickness*5).center(thickness*6))    \n",
    "\n",
    "#Bottom Pillars\n",
    "for i in range(thickness+1):\n",
    "    print((c*thickness).center(thickness*2)+(c*thickness).center(thickness*6))    \n",
    "\n",
    "#Bottom Cone\n",
    "for i in range(thickness):\n",
    "    print(((c*(thickness-i-1)).rjust(thickness)+c+(c*(thickness-i-1)).ljust(thickness)).rjust(thickness*6))"
   ]
  },
  {
   "source": [
    "Text Wrap"
   ],
   "cell_type": "markdown",
   "metadata": {}
  },
  {
   "cell_type": "code",
   "execution_count": null,
   "metadata": {},
   "outputs": [],
   "source": [
    "import textwrap\n",
    "\n",
    "def wrap(string, max_width):\n",
    "    wrapper = textwrap.TextWrapper(width=max_width) \n",
    "    dedented_text = textwrap.dedent(text=string) \n",
    "    result = wrapper.fill(text=dedented_text) \n",
    "    return result\n",
    "\n",
    "if __name__ == '__main__':\n",
    "    string, max_width = input(), int(input())\n",
    "    result = wrap(string, max_width)\n",
    "    print(result)\n"
   ]
  },
  {
   "source": [
    "Exclusive Or"
   ],
   "cell_type": "markdown",
   "metadata": {}
  },
  {
   "cell_type": "code",
   "execution_count": null,
   "metadata": {},
   "outputs": [],
   "source": [
    "x=input()\n",
    "y=input()\n",
    "if len(x) > len(y):\n",
    "    y=y.zfill(len(x))\n",
    "else:\n",
    "    x = x.zfill(len(y))\n",
    "\n",
    "for i in range(len(x)):\n",
    "    if x[i] == y[i] :\n",
    "        print('0',end=\"\")\n",
    "    else:\n",
    "        print('1',end=\"\")\n",
    "\n",
    "\n",
    "\n"
   ]
  },
  {
   "source": [
    "Turning BInary Matrix"
   ],
   "cell_type": "markdown",
   "metadata": {}
  },
  {
   "cell_type": "code",
   "execution_count": null,
   "metadata": {},
   "outputs": [],
   "source": [
    "n = int(input())\n",
    "b = []\n",
    "for i in range(n):\n",
    "    b.append(list(map(int,input().split())))\n",
    "    \n",
    "for i in range(n):\n",
    "    for j in range(n):\n",
    "        x = b[i][j] or b[j][n-i-1] or b[n-i-1][n-j-1] or b[n-j-1][i]\n",
    "        print(x,end = \" \")\n",
    "    print()"
   ]
  },
  {
   "source": [
    "Make Palindrome By Reversing "
   ],
   "cell_type": "markdown",
   "metadata": {}
  },
  {
   "cell_type": "code",
   "execution_count": null,
   "metadata": {},
   "outputs": [],
   "source": [
    "iterations = 0\n",
    "n = int(input())\n",
    "while iterations < 5:\n",
    "    k=str(n)\n",
    "    n = int(k)+int(k[::-1])\n",
    "    k=str(n)\n",
    "    if k==k[::-1] : \n",
    "        print(n)\n",
    "        print (\"YES\")\n",
    "        break\n",
    "    iterations+=1\n",
    "else:\n",
    "    print (\"NO\")\n"
   ]
  },
  {
   "source": [
    "John in a Matrix"
   ],
   "cell_type": "markdown",
   "metadata": {}
  },
  {
   "cell_type": "code",
   "execution_count": null,
   "metadata": {},
   "outputs": [],
   "source": [
    "size=int(input())\n",
    "matrix=list()\n",
    "row=0             \n",
    "col=0\n",
    "mn=0\n",
    "for i in range(size):\n",
    "    v=list(map(int,input().split()))\n",
    "    matrix.append(v)\n",
    "for i in range(size):\n",
    "    for j in range(size-1):\n",
    "        row=row+matrix[i][j]*matrix[i][j+1]\n",
    "for i in range(size-1):\n",
    "    row=row+matrix[i][-1]*matrix[i+1][0] \n",
    "for i in range(size):\n",
    "    for j in range(size-1):\n",
    "        col=col+matrix[j][i]*matrix[j+1][i]\n",
    "for i in range(size-1):\n",
    "    col=col+matrix[size-1][i]*matrix[0][i+1]\n",
    "if(col<row):\n",
    "    print('column-major')\n",
    "else:\n",
    "    print('row-major')"
   ]
  },
  {
   "source": [
    "Minimize Waste Cells"
   ],
   "cell_type": "markdown",
   "metadata": {}
  },
  {
   "cell_type": "code",
   "execution_count": null,
   "metadata": {},
   "outputs": [],
   "source": [
    "import math\n",
    "sentence = input()\n",
    "req = math.ceil((len(sentence) ** 0.5))\n",
    "for i in range(0,req**2):\n",
    "    if i < len(sentence):\n",
    "        print(sentence[i],end = '')\n",
    "    else:\n",
    "        print('?',end = '')\n",
    "\n",
    "    if (i + 1) % req == 0:\n",
    "        print()\n"
   ]
  },
  {
   "source": [
    "Number of digits in n!"
   ],
   "cell_type": "markdown",
   "metadata": {}
  },
  {
   "cell_type": "code",
   "execution_count": null,
   "metadata": {},
   "outputs": [],
   "source": [
    "import math\n",
    "\n",
    "def findDigits(n):\n",
    "    if (n < 0):\n",
    "        return 0\n",
    "    if (n <= 1):\n",
    "        return 1\n",
    "    digits = 0\n",
    "    for i in range(2, n + 1):\n",
    "        digits += math.log10(i)\n",
    "    return math.floor(digits) + 1\n",
    "\n",
    "n=int(input())\n",
    "print(findDigits(n))\n"
   ]
  },
  {
   "source": [
    "Decimal to Binary Convertion"
   ],
   "cell_type": "markdown",
   "metadata": {}
  },
  {
   "cell_type": "code",
   "execution_count": null,
   "metadata": {},
   "outputs": [],
   "source": [
    "def decimalToBinary(num):\n",
    "    b = bin(num)\n",
    "    return b[2:]\n",
    "number = int(input())\n",
    "print(decimalToBinary(number))\n"
   ]
  },
  {
   "source": [
    "Alternating Elements"
   ],
   "cell_type": "markdown",
   "metadata": {}
  },
  {
   "cell_type": "code",
   "execution_count": null,
   "metadata": {},
   "outputs": [],
   "source": [
    "def pattern(temp):\n",
    "\ttemp.sort()\n",
    "\tfor i in range(0,(len(temp)-1),2):\n",
    "        temp[i], temp[i+1] = temp[i+1], temp[i]\n",
    "\treturn temp\n",
    "n = int(input())\n",
    "numbers = list(map(int, input().strip().split(' ')))\n",
    "print (*pattern(numbers))\n"
   ]
  },
  {
   "cell_type": "code",
   "execution_count": null,
   "metadata": {},
   "outputs": [],
   "source": []
  }
 ]
}