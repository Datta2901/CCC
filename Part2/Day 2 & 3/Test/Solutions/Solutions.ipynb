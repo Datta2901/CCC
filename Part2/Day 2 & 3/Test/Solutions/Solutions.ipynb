{
 "metadata": {
  "language_info": {
   "codemirror_mode": {
    "name": "ipython",
    "version": 3
   },
   "file_extension": ".py",
   "mimetype": "text/x-python",
   "name": "python",
   "nbconvert_exporter": "python",
   "pygments_lexer": "ipython3",
   "version": "3.8.5-final"
  },
  "orig_nbformat": 2,
  "kernelspec": {
   "name": "python3",
   "display_name": "Python 3.8.5 64-bit (conda)",
   "metadata": {
    "interpreter": {
     "hash": "514c875f458a4eeecf57fff9a8f241a0d348fbc5534b67b68517d23698dc73f9"
    }
   }
  }
 },
 "nbformat": 4,
 "nbformat_minor": 2,
 "cells": [
  {
   "source": [
    "Alice and Boat Trips"
   ],
   "cell_type": "markdown",
   "metadata": {}
  },
  {
   "cell_type": "code",
   "execution_count": null,
   "metadata": {},
   "outputs": [],
   "source": [
    "size,bc,boats = [int(x)  for x in input().split()]\n",
    "passengers = [int(x)  for x in input().split()]\n",
    "if boats * bc >= max(passengers):\n",
    "    print(\"Yes\")\n",
    "else:\n",
    "    print(\"No\")"
   ]
  },
  {
   "source": [
    "Coders day"
   ],
   "cell_type": "markdown",
   "metadata": {}
  },
  {
   "cell_type": "code",
   "execution_count": null,
   "metadata": {},
   "outputs": [],
   "source": [
    "year = int(input())\n",
    "\n",
    "#  Julian Calender\n",
    "if year < 1918 :\n",
    "    if year % 4 ==0: # leap year\n",
    "        print(\"12.09.\"+ str(year))\n",
    "    #not a leap year\n",
    "    else:   \n",
    "        print(\"13.09.\"+ str(year))\n",
    "\n",
    "elif year == 1918:\n",
    "    print(\"26.09.1918\")\n",
    "\n",
    "# Greogian Calender\n",
    "elif year >= 1919:\n",
    "    # leap year\n",
    "    if year % 400 == 0 or (year % 4 == 0 and year % 100 !=0):\n",
    "        print(\"12.09.\"+str(year))\n",
    "    # not a leap year\n",
    "    else:\n",
    "        print(\"13.09.\"+str(year))   "
   ]
  },
  {
   "source": [
    "Slopes of line segments\n"
   ],
   "cell_type": "markdown",
   "metadata": {}
  },
  {
   "cell_type": "code",
   "execution_count": null,
   "metadata": {},
   "outputs": [],
   "source": [
    "Xa,Ya,Xb,Yb=list(map(int,(input().split())))\n",
    "Xp,Yp,Xq,Yq=list(map(int,(input().split())))\n",
    "if Xb-Xa==0 or Xq-Xp==0:\n",
    "    print(\"no\")\n",
    "else:\n",
    "    slope1=float(Yb-Ya)//float(Xb-Xa)\n",
    "    slope2=float(Yq-Yp)//float(Xq-Xp)\n",
    "\n",
    "    if slope1 == slope2:\n",
    "        print(\"yes\")\n",
    "    else:\n",
    "        print(\"no\")"
   ]
  },
  {
   "source": [
    "Eliet N"
   ],
   "cell_type": "markdown",
   "metadata": {}
  },
  {
   "cell_type": "code",
   "execution_count": null,
   "metadata": {},
   "outputs": [],
   "source": [
    "k = int(input())\n",
    "n = int(input())\n",
    "a = input().split()\n",
    "twmp=k\n",
    "left=0\n",
    "for i in range(n):\n",
    "    if k <= int(a[i]):\n",
    "        left=left+1\n",
    "        k=twmp\n",
    "        if twmp <= int(a[i]):\n",
    "            left = -2\n",
    "            break\n",
    "    k = k-int(a[i])\n",
    "print(left+1)"
   ]
  }
 ]
}