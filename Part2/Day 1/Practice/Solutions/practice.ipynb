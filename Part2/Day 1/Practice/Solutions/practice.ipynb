{
 "metadata": {
  "language_info": {
   "codemirror_mode": {
    "name": "ipython",
    "version": 3
   },
   "file_extension": ".py",
   "mimetype": "text/x-python",
   "name": "python",
   "nbconvert_exporter": "python",
   "pygments_lexer": "ipython3",
   "version": "3.8.5-final"
  },
  "orig_nbformat": 2,
  "kernelspec": {
   "name": "python3",
   "display_name": "Python 3",
   "language": "python"
  }
 },
 "nbformat": 4,
 "nbformat_minor": 2,
 "cells": [
  {
   "source": [
    "Problem name : Integer Comes in  All Sizes\n",
    "\n",
    "input\n",
    "9\n",
    "29\n",
    "7\n",
    "27"
   ],
   "cell_type": "markdown",
   "metadata": {}
  },
  {
   "cell_type": "code",
   "execution_count": 14,
   "metadata": {},
   "outputs": [
    {
     "output_type": "stream",
     "name": "stdout",
     "text": [
      "82\n"
     ]
    }
   ],
   "source": [
    "\n",
    "a=int(input())\n",
    "b=int(input())\n",
    "c=int(input())\n",
    "d=int(input())\n",
    "print(a ** b + c ** d)\n"
   ]
  },
  {
   "source": [
    "Triangle Quest\n"
   ],
   "cell_type": "markdown",
   "metadata": {}
  },
  {
   "cell_type": "code",
   "execution_count": 56,
   "metadata": {},
   "outputs": [
    {
     "output_type": "stream",
     "name": "stdout",
     "text": [
      "1\n22\n333\n4444\n"
     ]
    }
   ],
   "source": [
    "#  for i in range(1,int(input())):\n",
    "#     print(str(i) * i)\n",
    "\n",
    "for i in range(1,int(input())):\n",
    "    print(((10/9) * 10 ** (i - 1) * i).__trunc__())\n"
   ]
  },
  {
   "source": [
    "hello world"
   ],
   "cell_type": "markdown",
   "metadata": {}
  },
  {
   "cell_type": "code",
   "execution_count": 21,
   "metadata": {},
   "outputs": [
    {
     "output_type": "stream",
     "name": "stdout",
     "text": [
      "Hello, World!\n"
     ]
    }
   ],
   "source": [
    "print(\"Hello, World!\")"
   ]
  },
  {
   "source": [
    "Square Area"
   ],
   "cell_type": "markdown",
   "metadata": {}
  },
  {
   "cell_type": "code",
   "execution_count": 23,
   "metadata": {},
   "outputs": [
    {
     "output_type": "stream",
     "name": "stdout",
     "text": [
      "100\n"
     ]
    }
   ],
   "source": [
    "n = int(input())\n",
    "print(n ** 2)"
   ]
  },
  {
   "source": [
    "Print function"
   ],
   "cell_type": "markdown",
   "metadata": {}
  },
  {
   "cell_type": "code",
   "execution_count": 28,
   "metadata": {},
   "outputs": [
    {
     "output_type": "stream",
     "name": "stdout",
     "text": [
      "123\n"
     ]
    }
   ],
   "source": [
    "n = int(input())\n",
    "word = \"\"\n",
    "for i in range(1,n+1):\n",
    "    word += str(i)\n",
    "print(word)\n"
   ]
  },
  {
   "source": [
    "Area of Circle 2"
   ],
   "cell_type": "markdown",
   "metadata": {}
  },
  {
   "cell_type": "code",
   "execution_count": 34,
   "metadata": {},
   "outputs": [
    {
     "output_type": "stream",
     "name": "stdout",
     "text": [
      "78.539816\n"
     ]
    }
   ],
   "source": [
    "import math\n",
    "r = int(input())\n",
    "answer = float(math.pi * r ** 2)\n",
    " \n",
    "# print('%.6f'%answer)\n",
    "print(round(answer,6))"
   ]
  },
  {
   "source": [
    "Arithmetic Operators"
   ],
   "cell_type": "markdown",
   "metadata": {}
  },
  {
   "cell_type": "code",
   "execution_count": 35,
   "metadata": {},
   "outputs": [
    {
     "output_type": "stream",
     "name": "stdout",
     "text": [
      "5\n1\n6\n"
     ]
    }
   ],
   "source": [
    "a = int(input())\n",
    "b = int(input())\n",
    "print(a + b)\n",
    "print(a - b)\n",
    "print(a * b)"
   ]
  },
  {
   "source": [
    "Python Division"
   ],
   "cell_type": "markdown",
   "metadata": {}
  },
  {
   "cell_type": "code",
   "execution_count": 37,
   "metadata": {},
   "outputs": [
    {
     "output_type": "stream",
     "name": "stdout",
     "text": [
      "1\n1.5\n"
     ]
    }
   ],
   "source": [
    "a = int(input())\n",
    "b = int(input())\n",
    "print(a//b)\n",
    "print(a/b)"
   ]
  },
  {
   "source": [
    "Reincranation"
   ],
   "cell_type": "markdown",
   "metadata": {}
  },
  {
   "cell_type": "code",
   "execution_count": 50,
   "metadata": {},
   "outputs": [
    {
     "output_type": "stream",
     "name": "stdout",
     "text": [
      "16\n"
     ]
    }
   ],
   "source": [
    "# a, b= input().split() # Taking 2 numbers as a string\n",
    "# print(int(a) ** int(b))\n",
    "a,b = [int(x)  for x in  input().split()]\n",
    "print(a ** b)\n"
   ]
  },
  {
   "source": [
    "Number Pattern"
   ],
   "cell_type": "markdown",
   "metadata": {}
  },
  {
   "cell_type": "code",
   "execution_count": 52,
   "metadata": {},
   "outputs": [
    {
     "output_type": "stream",
     "name": "stdout",
     "text": [
      "1\n12\n123\n1234\n12345\n123456\n1234567\n12345678\n123456789\n12345678910\n"
     ]
    }
   ],
   "source": [
    "n = int(input())\n",
    "word = \"\"\n",
    "for i in range(1,n+1):\n",
    "    word += str(i);\n",
    "    print(word)"
   ]
  },
  {
   "source": [
    "Write function"
   ],
   "cell_type": "markdown",
   "metadata": {}
  },
  {
   "cell_type": "code",
   "execution_count": 60,
   "metadata": {},
   "outputs": [
    {
     "output_type": "stream",
     "name": "stdout",
     "text": [
      "True\n"
     ]
    }
   ],
   "source": [
    "n = int(input())\n",
    "if n % 400 == 0:\n",
    "    print(\"True\")\n",
    "elif n % 4 == 0 and n % 100 !=0:\n",
    "    print(\"True\") \n",
    "else:\n",
    "    print(\"False\")"
   ]
  },
  {
   "source": [
    "Find the Percentage"
   ],
   "cell_type": "markdown",
   "metadata": {}
  },
  {
   "cell_type": "code",
   "execution_count": 81,
   "metadata": {},
   "outputs": [
    {
     "output_type": "stream",
     "name": "stdout",
     "text": [
      "{'a': [1, 2, 3]}\n1 2 3 2.00\n"
     ]
    }
   ],
   "source": [
    "dic = {}\n",
    "t = int(input())\n",
    "while t > 0:\n",
    "    a= [x for x in input().split()]\n",
    "    # print(a)\n",
    "    for i in a:\n",
    "        if a[0] not in dic:\n",
    "            dic[a[0]] = []\n",
    "        else:\n",
    "            dic[a[0]].append(float(i))\n",
    "    t -= 1\n",
    "search = input()\n",
    "# print(dic)\n",
    "answer = 0\n",
    "for i in dic[search]:\n",
    "    # print(i,end = \" \")\n",
    "    answer += i\n",
    "answer /= 3\n",
    "\n",
    "print('%.2f'%answer)"
   ]
  },
  {
   "source": [
    "Weird Challenge "
   ],
   "cell_type": "markdown",
   "metadata": {}
  },
  {
   "cell_type": "code",
   "execution_count": 85,
   "metadata": {},
   "outputs": [
    {
     "output_type": "stream",
     "name": "stdout",
     "text": [
      "Weird\n"
     ]
    }
   ],
   "source": [
    "n = int(input())\n",
    "if n % 2 :\n",
    "    print(\"Weird\")\n",
    "elif 2 <= n <= 5:\n",
    "    print(\"Not Weird\")\n",
    "elif 6 <= n <= 20:\n",
    "    print(\"Weird\")\n",
    "else:\n",
    "    print(\"Not Weird\")\n",
    "     \n",
    "    "
   ]
  },
  {
   "source": [
    "Python if - else"
   ],
   "cell_type": "markdown",
   "metadata": {}
  },
  {
   "cell_type": "code",
   "execution_count": null,
   "metadata": {},
   "outputs": [],
   "source": [
    "n = int(input())\n",
    "if n % 2 :\n",
    "    print(\"Weird\")\n",
    "elif 2 <= n <= 5:\n",
    "    print(\"Not Weird\")\n",
    "elif 6 <= n <= 20:\n",
    "    print(\"Weird\")\n",
    "else:\n",
    "    print(\"Not Weird\")\n",
    "     \n",
    "    "
   ]
  },
  {
   "source": [
    "Loops"
   ],
   "cell_type": "markdown",
   "metadata": {}
  },
  {
   "cell_type": "code",
   "execution_count": 88,
   "metadata": {},
   "outputs": [
    {
     "output_type": "stream",
     "name": "stdout",
     "text": [
      "0\n1\n4\n9\n16\n"
     ]
    }
   ],
   "source": [
    "for i in range(0,int(input())):\n",
    "    print(i**2)"
   ]
  },
  {
   "source": [
    "Z 438 NUMBER PATTERN-5"
   ],
   "cell_type": "markdown",
   "metadata": {}
  },
  {
   "cell_type": "code",
   "execution_count": 92,
   "metadata": {},
   "outputs": [
    {
     "output_type": "stream",
     "name": "stdout",
     "text": [
      "1\n 2\n  3\n   4\n    5\n"
     ]
    }
   ],
   "source": [
    "s=\"\"\n",
    "for i in range(1, int(input()) + 1):\n",
    "    print(s,end = \"\")\n",
    "    print(i)\n",
    "    s +=' '\n",
    "    \n",
    "    \n"
   ]
  },
  {
   "source": [
    "Z 439 NUMBER PATTERN-4"
   ],
   "cell_type": "markdown",
   "metadata": {}
  },
  {
   "cell_type": "code",
   "execution_count": 12,
   "metadata": {},
   "outputs": [
    {
     "output_type": "stream",
     "name": "stdout",
     "text": [
      "1           13\n 2         12\n  3       11\n   4     10\n    5   9\n     6 8\n      7\n"
     ]
    }
   ],
   "source": [
    "fgap = \"\"\n",
    "mgap = \"\"\n",
    "f = 1\n",
    "n = int(input())\n",
    "e = n\n",
    "control = 0\n",
    "for i in range(n):\n",
    "    mgap += \" \"\n",
    "for i in range(int(n/2)):\n",
    "    print(fgap,end=\"\")\n",
    "    print(f,end=\"\")\n",
    "    print(mgap[1:abs(e - f)],end=\"\")\n",
    "    print(e)\n",
    "    fgap += \" \"\n",
    "    f += 1\n",
    "    e -= 1\n",
    "    control += 2\n",
    "print(fgap,end=\"\")\n",
    "print(f)\n",
    "\n",
    "\n"
   ]
  },
  {
   "source": [
    "Modified Array"
   ],
   "cell_type": "markdown",
   "metadata": {}
  },
  {
   "cell_type": "code",
   "execution_count": 151,
   "metadata": {},
   "outputs": [
    {
     "output_type": "stream",
     "name": "stdout",
     "text": [
      "[2, 1, 6, 2]\n"
     ]
    }
   ],
   "source": [
    "size = int(input())\n",
    "ele = [int(x) for x in input().split()]\n",
    "for i in range(0,len(ele)):\n",
    "    if i % 2 == 0:\n",
    "        ele[i] *= 2\n",
    "    else:\n",
    "        ele[i]= int(ele[i]/2)\n",
    "\n",
    "for i in ele:\n",
    "    print(i,end = \" \")"
   ]
  },
  {
   "source": [
    "Mod Div Power"
   ],
   "cell_type": "markdown",
   "metadata": {}
  },
  {
   "cell_type": "code",
   "execution_count": 153,
   "metadata": {},
   "outputs": [
    {
     "output_type": "stream",
     "name": "stdout",
     "text": [
      "1\n7\n(1, 7)\n"
     ]
    }
   ],
   "source": [
    "a = int(input())\n",
    "b = int(input())\n",
    "print(a // b)\n",
    "print(a % b)\n",
    "print(divmod(a,b))"
   ]
  },
  {
   "source": [
    "Power mod Power"
   ],
   "cell_type": "markdown",
   "metadata": {}
  },
  {
   "cell_type": "code",
   "execution_count": 154,
   "metadata": {},
   "outputs": [
    {
     "output_type": "stream",
     "name": "stdout",
     "text": [
      "81\n1\n"
     ]
    }
   ],
   "source": [
    "a = int(input())\n",
    "b = int(input())\n",
    "c = int(input())\n",
    "print(a ** b)\n",
    "print(pow(a,b,c))"
   ]
  },
  {
   "source": [
    "Domino Piles"
   ],
   "cell_type": "markdown",
   "metadata": {}
  },
  {
   "cell_type": "code",
   "execution_count": 3,
   "metadata": {},
   "outputs": [
    {
     "output_type": "stream",
     "name": "stdout",
     "text": [
      "4\n"
     ]
    }
   ],
   "source": [
    "m,n = [int(x) for x in input().split()]\n",
    "print(m * n // 2)"
   ]
  },
  {
   "source": [
    "Array as a Hill"
   ],
   "cell_type": "markdown",
   "metadata": {}
  },
  {
   "cell_type": "code",
   "execution_count": 22,
   "metadata": {},
   "outputs": [
    {
     "output_type": "stream",
     "name": "stdout",
     "text": [
      "yes\n"
     ]
    }
   ],
   "source": [
    "length = int(input())\n",
    "a = [int(x) for x in input().split()]\n",
    "# print(a)\n",
    "i = 0\n",
    "\n",
    "while i < length - 1:\n",
    "    if a[i] < a[i + 1]:\n",
    "        i += 1\n",
    "    else:\n",
    "        break\n",
    "while i < length - 1:\n",
    "    if a[i] == a[i + 1]:\n",
    "        i += 1\n",
    "    else:\n",
    "        break\n",
    "while i < length - 1:\n",
    "    if a[i] > a[i + 1]:\n",
    "        i += 1\n",
    "    else:\n",
    "        break\n",
    "if i == length - 1:\n",
    "    print(\"yes\")\n",
    "else:\n",
    "    print(\"no\")\n"
   ]
  },
  {
   "cell_type": "code",
   "execution_count": null,
   "metadata": {},
   "outputs": [],
   "source": []
  }
 ]
}