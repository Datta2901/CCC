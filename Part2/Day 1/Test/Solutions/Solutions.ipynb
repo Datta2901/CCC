{
 "metadata": {
  "language_info": {
   "codemirror_mode": {
    "name": "ipython",
    "version": 3
   },
   "file_extension": ".py",
   "mimetype": "text/x-python",
   "name": "python",
   "nbconvert_exporter": "python",
   "pygments_lexer": "ipython3",
   "version": "3.8.5-final"
  },
  "orig_nbformat": 2,
  "kernelspec": {
   "name": "python3",
   "display_name": "Python 3.8.5 64-bit (conda)",
   "metadata": {
    "interpreter": {
     "hash": "514c875f458a4eeecf57fff9a8f241a0d348fbc5534b67b68517d23698dc73f9"
    }
   }
  }
 },
 "nbformat": 4,
 "nbformat_minor": 2,
 "cells": [
  {
   "source": [
    "Rava Idli"
   ],
   "cell_type": "markdown",
   "metadata": {}
  },
  {
   "source": [
    "t = int(input())\n",
    "while t > 0:\n",
    "    a,b,c = [int(x) for x in input().split()]\n",
    "    # print(a , b, c)\n",
    "    if a > b :\n",
    "        print(c//b)\n",
    "    else:\n",
    "        print(c//a)\n",
    "    t -= 1\n"
   ],
   "cell_type": "code",
   "metadata": {},
   "execution_count": null,
   "outputs": []
  },
  {
   "source": [
    "Barua Skywatcher"
   ],
   "cell_type": "markdown",
   "metadata": {}
  },
  {
   "cell_type": "code",
   "execution_count": 4,
   "metadata": {},
   "outputs": [
    {
     "output_type": "stream",
     "name": "stdout",
     "text": [
      "100.000000\n"
     ]
    }
   ],
   "source": [
    "t = int(input())\n",
    "size = t\n",
    "count = 0\n",
    "while t > 0:\n",
    "    a,b = [int(x) for x in input().split()]\n",
    "    if a > 0 and b > 0 :\n",
    "        count += 1\n",
    "    t -= 1\n",
    "answer = count / (size - t) \n",
    "print('%6f'%answer)"
   ]
  }
 ]
}